{
 "cells": [
  {
   "cell_type": "markdown",
   "metadata": {},
   "source": [
    "Importing libraries"
   ]
  },
  {
   "cell_type": "code",
   "execution_count": 112,
   "metadata": {},
   "outputs": [],
   "source": [
    "import matplotlib.pyplot as plt\n",
    "from matplotlib import style\n",
    "style.use('ggplot')\n",
    "import numpy as np\n",
    "from sklearn import preprocessing\n",
    "import pandas as pd\n",
    "\n",
    "from sklearn import metrics\n",
    "from sklearn.model_selection import train_test_split\n",
    "from sklearn.ensemble import RandomForestClassifier\n",
    "from sklearn.pipeline import make_pipeline\n",
    "from sklearn.model_selection import GridSearchCV\n",
    "from sklearn.metrics import mean_squared_error, r2_score\n",
    "from sklearn.externals import joblib\n",
    "from sklearn import svm\n",
    "from sklearn import metrics\n",
    "from sklearn.linear_model import LogisticRegression\n",
    "from sklearn.svm import SVC, LinearSVC\n",
    "from sklearn.ensemble import RandomForestClassifier\n",
    "from sklearn.neighbors import KNeighborsClassifier\n",
    "from sklearn.naive_bayes import GaussianNB\n",
    "from sklearn.linear_model import Perceptron\n",
    "from sklearn.linear_model import SGDClassifier\n",
    "from sklearn.tree import DecisionTreeClassifier"
   ]
  },
  {
   "cell_type": "markdown",
   "metadata": {},
   "source": [
    "The data is read from the disk. The API \"kaggle datasets download -d kemical/kickstarter-projects\" may also be used. The \"encoding\" in the command helps us open the csv file without any problems."
   ]
  },
  {
   "cell_type": "code",
   "execution_count": 113,
   "metadata": {},
   "outputs": [],
   "source": [
    "df = pd.read_csv('ks-projects-201801.csv', encoding = \"ISO-8859-1\")"
   ]
  },
  {
   "cell_type": "code",
   "execution_count": 114,
   "metadata": {},
   "outputs": [
    {
     "name": "stdout",
     "output_type": "stream",
     "text": [
      "The given table has the following attributes['ID', 'name', 'category', 'main_category', 'currency', 'deadline', 'goal', 'launched', 'pledged', 'state', 'backers', 'country', 'usd pledged', 'usd_pledged_real', 'usd_goal_real']\n"
     ]
    }
   ],
   "source": [
    "print(\"The given table has the following attributes\" + str(list(df)))\n",
    "# Make sure that all the date times are in the proper format in pandas\n",
    "df['deadline'] = pd.to_datetime(df['deadline'])\n",
    "df['launched'] = pd.to_datetime(df['launched'])\n",
    "\n",
    "# # to unix timestamp\n",
    "df['deadline']=df['deadline'].astype(np.int64)\n",
    "df['launched']=df['launched'].astype(np.int64)\n",
    "df['duration']=df['launched']-df['deadline']"
   ]
  },
  {
   "cell_type": "markdown",
   "metadata": {},
   "source": [
    "Drop the columns that have values giving away the answer you are setting out to predict, or the values that do not give any necessary addage to the model."
   ]
  },
  {
   "cell_type": "code",
   "execution_count": 115,
   "metadata": {},
   "outputs": [
    {
     "name": "stdout",
     "output_type": "stream",
     "text": [
      "The final model will use the following attributes:['category', 'main_category', 'currency', 'state', 'backers', 'country', 'usd_goal_real']\n",
      "The given data has the following unique states:['failed' 'canceled' 'successful' 'live' 'undefined' 'suspended']\n",
      "Since the states like 'undefined' and 'suspended' and 'cancelled' provide no value to the classification, we shall remove them.\n"
     ]
    }
   ],
   "source": [
    "df.drop('ID', axis=1,inplace=True)\n",
    "df.drop('pledged', axis=1,inplace=True)\n",
    "df.drop('usd pledged', axis=1,inplace=True)\n",
    "df.drop('goal', axis=1,inplace=True)\n",
    "df.drop('usd_pledged_real', axis=1,inplace=True)\n",
    "df.drop('name', axis=1,inplace=True)\n",
    "df.drop('deadline', axis=1,inplace=True)\n",
    "df.drop('launched', axis=1,inplace=True)\n",
    "df.drop('duration', axis=1,inplace=True)\n",
    "\n",
    "print(\"The final model will use the following attributes:\" + str(list(df)))\n",
    "\n",
    "print(\"The given data has the following unique states:\" + str(df.state.unique()))\n",
    "print(\"Since the states like 'undefined' and 'suspended' and 'cancelled' provide no value to the classification, we shall remove them.\")"
   ]
  },
  {
   "cell_type": "markdown",
   "metadata": {},
   "source": [
    "Remove the values that may confuse the classifiers among the available states:"
   ]
  },
  {
   "cell_type": "code",
   "execution_count": 116,
   "metadata": {},
   "outputs": [],
   "source": [
    "df.drop(df[df.state == 'undefined'].index,inplace=True)\n",
    "df.drop(df[df.state == 'live'].index,inplace=True)\n",
    "df.drop(df[df.state == 'suspended'].index,inplace=True)"
   ]
  },
  {
   "cell_type": "markdown",
   "metadata": {},
   "source": [
    "Converting non-numeric values to numeric ones. We are using the label encoder to achieve this effect. Label encoder labels the non-numeric values with value between 0 and n_classes-1."
   ]
  },
  {
   "cell_type": "code",
   "execution_count": 117,
   "metadata": {},
   "outputs": [],
   "source": [
    "le=preprocessing.LabelEncoder()\n",
    "le.fit(df.category)\n",
    "df.category=le.transform(df.category) \n",
    "# to see the corresponding names from the numeric values, one can use:\n",
    "# list(le.inverse_transform(le.transform(df.category.unique()) ))\n",
    "\n",
    "le.fit(df.main_category)\n",
    "df.main_category=le.transform(df.main_category) \n",
    "\n",
    "le.fit(df.currency)\n",
    "df.currency=le.transform(df.currency)\n",
    "\n",
    "le.fit(df.country)\n",
    "df.country=le.transform(df.country)"
   ]
  },
  {
   "cell_type": "markdown",
   "metadata": {},
   "source": [
    "I am converting the different values seen in the states column to numeric values such that it is either 1- meaning that the project has been successful; or 0- the project has failed/has been canceled."
   ]
  },
  {
   "cell_type": "code",
   "execution_count": 118,
   "metadata": {},
   "outputs": [],
   "source": [
    "df['state'] = df['state'].map({'failed' : 0,'canceled' : 0,'successful' : 1})"
   ]
  },
  {
   "cell_type": "markdown",
   "metadata": {},
   "source": [
    "As I am have a rather slow computer, I am first trying to test the classification pipeline on a small set of values before trying the whole set of values. In the case below, I am useing only the first 10000 values."
   ]
  },
  {
   "cell_type": "code",
   "execution_count": 8,
   "metadata": {},
   "outputs": [],
   "source": [
    "df_new=df[:10000]"
   ]
  },
  {
   "cell_type": "markdown",
   "metadata": {},
   "source": [
    "Here, 'X' represents the set of features and their corresponding values for each project. 'y' is state which tells us whether the project will be a success or failure. We are using the classifier to predict 'y'"
   ]
  },
  {
   "cell_type": "code",
   "execution_count": 9,
   "metadata": {},
   "outputs": [],
   "source": [
    "y = df_new.state\n",
    "X = df_new.drop('state', axis=1)"
   ]
  },
  {
   "cell_type": "markdown",
   "metadata": {},
   "source": [
    "Now, we first randomize the data (or pseudo-randomize!) and try to split the data into training and test sets. The training set will be the data that shall be used to do the fitting. The test set will be used to test if the model is as good as want it to be ;)."
   ]
  },
  {
   "cell_type": "code",
   "execution_count": 83,
   "metadata": {},
   "outputs": [],
   "source": [
    "X_train, X_test, y_train, y_test = train_test_split(X, y, \n",
    "                                                    test_size=0.2, \n",
    "                                                    random_state=102)\n",
    " \n",
    "# Then, we write down the data preprocessing steps. The classifier used in this case is the random forest classifier.\n",
    "pipeline = make_pipeline(preprocessing.StandardScaler(), \n",
    "                          RandomForestClassifier(n_estimators=10))\n",
    " \n",
    "# Now we go on to determine the hyperparameters to tune. These are a set of values that you give in so that we can optimize\n",
    "# the code.\n",
    "hyperparameters = { 'randomforestclassifier__max_features' : ['auto', 'sqrt', 'log2'],\n",
    "                  'randomforestclassifier__max_depth': [None, 5, 3, 1]}\n",
    " \n",
    "# Tune model using cross-validation pipeline. The grid search is very useful in the optimization of the hyper parameters. Other\n",
    "# methods to fine-tune the hyper parameters such as the Bayesian optimization exist for random forests. I shall try them if I \n",
    "# get a chance!\n",
    "clf = GridSearchCV(pipeline, hyperparameters, cv=10)\n",
    "\n",
    "# Let the fitting begin! \n",
    "clf.fit(X_train, y_train)\n",
    "\n",
    "# Evaluate model pipeline on test data.\n",
    "y_pred = clf.predict(X_test)\n",
    "\n",
    "#Understand the accueracy of the data\n",
    "randforest_accu = metrics.accuracy_score(y_test,y_pred)"
   ]
  },
  {
   "cell_type": "markdown",
   "metadata": {},
   "source": [
    "To get the feature that the model most depends on, we can try to understand the plot given below. According to this, the number of backers are the determining feature on which the classification heavily depends. Next, the classification depends on the currency, and thhen on the country. It depends least on the goal amount."
   ]
  },
  {
   "cell_type": "code",
   "execution_count": 82,
   "metadata": {},
   "outputs": [
    {
     "data": {
      "image/png": "[encoded data removed]",
      "text/plain": [
       "<Figure size 432x288 with 1 Axes>"
      ]
     },
     "metadata": {},
     "output_type": "display_data"
    }
   ],
   "source": [
    "rfc=RandomForestClassifier(n_estimators=10)\n",
    "rfc.fit(X_train, y_train)\n",
    "def f_importances(coef, names):\n",
    "    imp = abs(coef[0])\n",
    "    imp,names = zip(*sorted(zip(imp,names)))\n",
    "    plt.barh(range(len(names)), imp, align='center')\n",
    "    plt.yticks(range(len(names)), names)\n",
    "    plt.show()\n",
    "\n",
    "features_names = list(X)\n",
    "rfc = LinearSVC()\n",
    "rfc.fit(X_test,y_test)\n",
    "f_importances(rfc.coef_, features_names)\n",
    "y_pred=rfc.predict(X_test)"
   ]
  },
  {
   "cell_type": "code",
   "execution_count": 39,
   "metadata": {},
   "outputs": [
    {
     "data": {
      "text/plain": [
       "0.639"
      ]
     },
     "execution_count": 39,
     "metadata": {},
     "output_type": "execute_result"
    }
   ],
   "source": [
    "# Null accuracy for the given data set:\n",
    "max(y_test.mean(),1-y_test.mean())"
   ]
  },
  {
   "cell_type": "markdown",
   "metadata": {},
   "source": [
    "I have used R-squared score (r2) to find how good my model is. The r2 score measures how close the data is to the fitted regression line. A value of 0 indicates that the model explains none of the variability of the response data around its mean."
   ]
  },
  {
   "cell_type": "code",
   "execution_count": 32,
   "metadata": {},
   "outputs": [
    {
     "name": "stdout",
     "output_type": "stream",
     "text": [
      "0.6466951911530742\n",
      "0.0815\n"
     ]
    }
   ],
   "source": [
    "r2_random_forest = r2_score(y_test, y_pred)\n",
    "mse_random_forest = mean_squared_error(y_test, y_pred)\n",
    "\n",
    "#r2 score is around 70%\n",
    "print(r2_random_forest)\n",
    "print(mse_random_forest)"
   ]
  },
  {
   "cell_type": "markdown",
   "metadata": {},
   "source": [
    "This plot shows the population of points lying at the correct locations, and the poplulation of points in the incrrect locations. The purple populations represent the smaller and incorrect values predicted by the model, and the red and yellow regions represent the more correct preditions."
   ]
  },
  {
   "cell_type": "code",
   "execution_count": 86,
   "metadata": {},
   "outputs": [
    {
     "data": {
      "image/png": "[encoded data removed]",
      "text/plain": [
       "<Figure size 432x432 with 2 Axes>"
      ]
     },
     "metadata": {},
     "output_type": "display_data"
    }
   ],
   "source": [
    "points=list(set(zip(y_test.tolist(),y_pred))) \n",
    "count=[len([x for x,y in zip(y_test.tolist(),y_pred) if x==p[0] and y==p[1]]) for p in points]\n",
    "plot_x=[i[0] for i in points]\n",
    "plot_y=[i[1] for i in points]\n",
    "count=np.array(count)\n",
    "plt.figure(figsize=(6,6))\n",
    "plt.scatter(plot_x,plot_y,c=count,s=count,cmap='Spectral_r')\n",
    "plt.xlabel(\"Test values\")\n",
    "plt.ylabel(\"Predicted values\")\n",
    "plt.colorbar()\n",
    "plt.show()"
   ]
  },
  {
   "cell_type": "markdown",
   "metadata": {},
   "source": [
    "I have used the support vector machine classifier in the linear mode to find the importance of each feature in the data considered. In this case, we learn that  is the most important feature. This importance is calculated using the weights given in the linear svc model"
   ]
  },
  {
   "cell_type": "code",
   "execution_count": 88,
   "metadata": {},
   "outputs": [
    {
     "name": "stdout",
     "output_type": "stream",
     "text": [
      "0.903\n"
     ]
    }
   ],
   "source": [
    "linear_svc = LinearSVC()\n",
    "linear_svc.fit(X_train, y_train)\n",
    "y_pred = linear_svc.predict(X_test)\n",
    "linear_svc_accu = metrics.accuracy_score(y_test,y_pred)\n",
    "print(linear_svc_accu)\n",
    "# Null accuracy\n",
    "# max(y_test.mean(),1-y_test.mean())\n",
    "# print(r2_score(y_test, y_pred))\n",
    "# print(mean_squared_error(y_test, y_pred))"
   ]
  },
  {
   "cell_type": "code",
   "execution_count": 90,
   "metadata": {},
   "outputs": [
    {
     "data": {
      "image/png": "[encoded data removed]",
      "text/plain": [
       "<Figure size 432x288 with 1 Axes>"
      ]
     },
     "metadata": {},
     "output_type": "display_data"
    }
   ],
   "source": [
    "def f_importances(coef, names):\n",
    "    imp = abs(coef[0])\n",
    "    imp,names = zip(*sorted(zip(imp,names)))\n",
    "    plt.barh(range(len(names)), imp, align='center')\n",
    "    plt.yticks(range(len(names)), names)\n",
    "    plt.show()\n",
    "\n",
    "features_names = list(X)\n",
    "svm = LinearSVC()\n",
    "svm.fit(X_test,y_test)\n",
    "f_importances(svm.coef_, features_names)\n",
    "y_pred=svm.predict(X_test)"
   ]
  },
  {
   "cell_type": "code",
   "execution_count": 91,
   "metadata": {},
   "outputs": [
    {
     "name": "stdout",
     "output_type": "stream",
     "text": [
      "0.6635\n",
      "0.9025\n"
     ]
    }
   ],
   "source": [
    "#Learning feature importance of linear SVM kernel, because non-linear is not possible. And since the SVC is giving an accuracy \n",
    "#of 100%, which seems absurd. \n",
    "svc = SVC()\n",
    "svc.fit(X_train, y_train)\n",
    "y_pred = svc.predict(X_test)\n",
    "svc_accu = metrics.accuracy_score(y_test,y_pred)\n",
    "print(svc_accu)\n",
    "\n",
    "logreg = LogisticRegression()\n",
    "logreg.fit(X_train, y_train)\n",
    "y_pred = logreg.predict(X_test)\n",
    "logreg_accu = metrics.accuracy_score(y_test,y_pred)\n",
    "print(logreg_accu)"
   ]
  },
  {
   "cell_type": "code",
   "execution_count": 92,
   "metadata": {},
   "outputs": [
    {
     "name": "stdout",
     "output_type": "stream",
     "text": [
      "0.8805\n"
     ]
    }
   ],
   "source": [
    "knn = KNeighborsClassifier(n_neighbors = 3)\n",
    "knn.fit(X_train, y_train)\n",
    "y_pred = knn.predict(X_test)\n",
    "knn_accu = metrics.accuracy_score(y_test,y_pred)\n",
    "print(knn_accu)"
   ]
  },
  {
   "cell_type": "code",
   "execution_count": 93,
   "metadata": {},
   "outputs": [
    {
     "name": "stdout",
     "output_type": "stream",
     "text": [
      "0.7555\n"
     ]
    }
   ],
   "source": [
    "gaussian = GaussianNB()\n",
    "gaussian.fit(X_train, y_train)\n",
    "y_pred = gaussian.predict(X_test)\n",
    "gnv_accu = metrics.accuracy_score(y_test,y_pred)\n",
    "print(gnv_accu)"
   ]
  },
  {
   "cell_type": "code",
   "execution_count": 95,
   "metadata": {},
   "outputs": [
    {
     "name": "stdout",
     "output_type": "stream",
     "text": [
      "0.89\n"
     ]
    }
   ],
   "source": [
    "decision_tree = DecisionTreeClassifier()\n",
    "decision_tree.fit(X_train, y_train)\n",
    "y_pred = decision_tree.predict(X_test)\n",
    "dtree_accu = metrics.accuracy_score(y_test,y_pred)\n",
    "print(dtree_accu)"
   ]
  },
  {
   "cell_type": "code",
   "execution_count": 98,
   "metadata": {},
   "outputs": [
    {
     "name": "stdout",
     "output_type": "stream",
     "text": [
      "0.7345\n"
     ]
    },
    {
     "name": "stderr",
     "output_type": "stream",
     "text": [
      "C:\\Users\\C5269612\\AppData\\Local\\Continuum\\anaconda3\\lib\\site-packages\\sklearn\\linear_model\\stochastic_gradient.py:128: FutureWarning: max_iter and tol parameters have been added in <class 'sklearn.linear_model.stochastic_gradient.SGDClassifier'> in 0.19. If both are left unset, they default to max_iter=5 and tol=None. If tol is not None, max_iter defaults to max_iter=1000. From 0.21, default max_iter will be 1000, and default tol will be 1e-3.\n",
      "  \"and default tol will be 1e-3.\" % type(self), FutureWarning)\n"
     ]
    }
   ],
   "source": [
    "sgd = SGDClassifier()\n",
    "sgd.fit(X_train, y_train)\n",
    "y_pred = sgd.predict(X_test)\n",
    "sgd_accu = metrics.accuracy_score(y_test,y_pred)\n",
    "print(sgd_accu)"
   ]
  },
  {
   "cell_type": "code",
   "execution_count": 99,
   "metadata": {},
   "outputs": [
    {
     "data": {
      "text/html": [
       "<div>\n",
       "<style scoped>\n",
       "    .dataframe tbody tr th:only-of-type {\n",
       "        vertical-align: middle;\n",
       "    }\n",
       "\n",
       "    .dataframe tbody tr th {\n",
       "        vertical-align: top;\n",
       "    }\n",
       "\n",
       "    .dataframe thead th {\n",
       "        text-align: right;\n",
       "    }\n",
       "</style>\n",
       "<table border=\"1\" class=\"dataframe\">\n",
       "  <thead>\n",
       "    <tr style=\"text-align: right;\">\n",
       "      <th></th>\n",
       "      <th>Model</th>\n",
       "      <th>Score</th>\n",
       "    </tr>\n",
       "  </thead>\n",
       "  <tbody>\n",
       "    <tr>\n",
       "      <th>3</th>\n",
       "      <td>Random Forest</td>\n",
       "      <td>0.9215</td>\n",
       "    </tr>\n",
       "    <tr>\n",
       "      <th>6</th>\n",
       "      <td>Linear SVC</td>\n",
       "      <td>0.9030</td>\n",
       "    </tr>\n",
       "    <tr>\n",
       "      <th>2</th>\n",
       "      <td>Logistic Regression</td>\n",
       "      <td>0.9025</td>\n",
       "    </tr>\n",
       "    <tr>\n",
       "      <th>1</th>\n",
       "      <td>KNN</td>\n",
       "      <td>0.8805</td>\n",
       "    </tr>\n",
       "    <tr>\n",
       "      <th>4</th>\n",
       "      <td>Naive Bayes</td>\n",
       "      <td>0.7555</td>\n",
       "    </tr>\n",
       "    <tr>\n",
       "      <th>5</th>\n",
       "      <td>Stochastic Gradient Decent</td>\n",
       "      <td>0.7345</td>\n",
       "    </tr>\n",
       "    <tr>\n",
       "      <th>7</th>\n",
       "      <td>Decision Tree</td>\n",
       "      <td>0.6670</td>\n",
       "    </tr>\n",
       "    <tr>\n",
       "      <th>0</th>\n",
       "      <td>Support Vector Machines</td>\n",
       "      <td>0.6635</td>\n",
       "    </tr>\n",
       "  </tbody>\n",
       "</table>\n",
       "</div>"
      ],
      "text/plain": [
       "                        Model   Score\n",
       "3               Random Forest  0.9215\n",
       "6                  Linear SVC  0.9030\n",
       "2         Logistic Regression  0.9025\n",
       "1                         KNN  0.8805\n",
       "4                 Naive Bayes  0.7555\n",
       "5  Stochastic Gradient Decent  0.7345\n",
       "7               Decision Tree  0.6670\n",
       "0     Support Vector Machines  0.6635"
      ]
     },
     "execution_count": 99,
     "metadata": {},
     "output_type": "execute_result"
    }
   ],
   "source": [
    "models = pd.DataFrame({\n",
    "    'Model': ['Support Vector Machines', 'KNN', 'Logistic Regression', \n",
    "              'Random Forest', 'Naive Bayes', 'Stochastic Gradient Decent', \n",
    "              'Linear SVC', 'Decision Tree'],\n",
    "    'Score': [svc_accu,knn_accu, logreg_accu,\n",
    "              randforest_accu, gnv_accu, sgd_accu, \n",
    "              linear_svc_accu, dtree_accu]})\n",
    "models.sort_values(by='Score', ascending=False)"
   ]
  },
  {
   "cell_type": "code",
   "execution_count": 140,
   "metadata": {},
   "outputs": [
    {
     "data": {
      "text/plain": [
       "category         0.023332\n",
       "main_category   -0.031571\n",
       "currency         0.064819\n",
       "state            1.000000\n",
       "backers          0.129141\n",
       "country          0.060703\n",
       "usd_goal_real   -0.023709\n",
       "dtype: float64"
      ]
     },
     "execution_count": 140,
     "metadata": {},
     "output_type": "execute_result"
    }
   ],
   "source": [
    "df.corrwith(df.state, axis=0, drop=False)"
   ]
  },
  {
   "cell_type": "code",
   "execution_count": 126,
   "metadata": {},
   "outputs": [
    {
     "data": {
      "text/html": [
       "<div>\n",
       "<style scoped>\n",
       "    .dataframe tbody tr th:only-of-type {\n",
       "        vertical-align: middle;\n",
       "    }\n",
       "\n",
       "    .dataframe tbody tr th {\n",
       "        vertical-align: top;\n",
       "    }\n",
       "\n",
       "    .dataframe thead th {\n",
       "        text-align: right;\n",
       "    }\n",
       "</style>\n",
       "<table border=\"1\" class=\"dataframe\">\n",
       "  <thead>\n",
       "    <tr style=\"text-align: right;\">\n",
       "      <th></th>\n",
       "      <th></th>\n",
       "      <th>category</th>\n",
       "      <th>main_category</th>\n",
       "      <th>currency</th>\n",
       "      <th>country</th>\n",
       "      <th>usd_goal_real</th>\n",
       "    </tr>\n",
       "    <tr>\n",
       "      <th>state</th>\n",
       "      <th>backers</th>\n",
       "      <th></th>\n",
       "      <th></th>\n",
       "      <th></th>\n",
       "      <th></th>\n",
       "      <th></th>\n",
       "    </tr>\n",
       "  </thead>\n",
       "  <tbody>\n",
       "    <tr>\n",
       "      <th rowspan=\"30\" valign=\"top\">0</th>\n",
       "      <th>0</th>\n",
       "      <td>3862087</td>\n",
       "      <td>396654</td>\n",
       "      <td>537997</td>\n",
       "      <td>927630</td>\n",
       "      <td>4.714318e+09</td>\n",
       "    </tr>\n",
       "    <tr>\n",
       "      <th>1</th>\n",
       "      <td>2610416</td>\n",
       "      <td>261310</td>\n",
       "      <td>361811</td>\n",
       "      <td>623269</td>\n",
       "      <td>2.927539e+09</td>\n",
       "    </tr>\n",
       "    <tr>\n",
       "      <th>2</th>\n",
       "      <td>1753857</td>\n",
       "      <td>172724</td>\n",
       "      <td>241748</td>\n",
       "      <td>416095</td>\n",
       "      <td>1.860920e+09</td>\n",
       "    </tr>\n",
       "    <tr>\n",
       "      <th>3</th>\n",
       "      <td>1208328</td>\n",
       "      <td>116626</td>\n",
       "      <td>167943</td>\n",
       "      <td>288457</td>\n",
       "      <td>7.898600e+08</td>\n",
       "    </tr>\n",
       "    <tr>\n",
       "      <th>4</th>\n",
       "      <td>902766</td>\n",
       "      <td>85625</td>\n",
       "      <td>124839</td>\n",
       "      <td>214382</td>\n",
       "      <td>6.419460e+08</td>\n",
       "    </tr>\n",
       "    <tr>\n",
       "      <th>5</th>\n",
       "      <td>717945</td>\n",
       "      <td>67198</td>\n",
       "      <td>98251</td>\n",
       "      <td>168564</td>\n",
       "      <td>6.354029e+08</td>\n",
       "    </tr>\n",
       "    <tr>\n",
       "      <th>6</th>\n",
       "      <td>594794</td>\n",
       "      <td>55100</td>\n",
       "      <td>80845</td>\n",
       "      <td>138744</td>\n",
       "      <td>3.401444e+08</td>\n",
       "    </tr>\n",
       "    <tr>\n",
       "      <th>7</th>\n",
       "      <td>501598</td>\n",
       "      <td>45821</td>\n",
       "      <td>68201</td>\n",
       "      <td>117051</td>\n",
       "      <td>2.744572e+08</td>\n",
       "    </tr>\n",
       "    <tr>\n",
       "      <th>8</th>\n",
       "      <td>433262</td>\n",
       "      <td>39504</td>\n",
       "      <td>57883</td>\n",
       "      <td>99337</td>\n",
       "      <td>2.137272e+08</td>\n",
       "    </tr>\n",
       "    <tr>\n",
       "      <th>9</th>\n",
       "      <td>369838</td>\n",
       "      <td>34127</td>\n",
       "      <td>50416</td>\n",
       "      <td>86466</td>\n",
       "      <td>1.150685e+08</td>\n",
       "    </tr>\n",
       "    <tr>\n",
       "      <th>10</th>\n",
       "      <td>326444</td>\n",
       "      <td>30126</td>\n",
       "      <td>44477</td>\n",
       "      <td>76324</td>\n",
       "      <td>1.198360e+08</td>\n",
       "    </tr>\n",
       "    <tr>\n",
       "      <th>11</th>\n",
       "      <td>279487</td>\n",
       "      <td>25716</td>\n",
       "      <td>38026</td>\n",
       "      <td>65181</td>\n",
       "      <td>8.753691e+07</td>\n",
       "    </tr>\n",
       "    <tr>\n",
       "      <th>12</th>\n",
       "      <td>258538</td>\n",
       "      <td>24004</td>\n",
       "      <td>35772</td>\n",
       "      <td>61240</td>\n",
       "      <td>8.984265e+07</td>\n",
       "    </tr>\n",
       "    <tr>\n",
       "      <th>13</th>\n",
       "      <td>241785</td>\n",
       "      <td>22141</td>\n",
       "      <td>33029</td>\n",
       "      <td>56576</td>\n",
       "      <td>7.731921e+07</td>\n",
       "    </tr>\n",
       "    <tr>\n",
       "      <th>14</th>\n",
       "      <td>221637</td>\n",
       "      <td>20765</td>\n",
       "      <td>29900</td>\n",
       "      <td>51316</td>\n",
       "      <td>7.748401e+07</td>\n",
       "    </tr>\n",
       "    <tr>\n",
       "      <th>15</th>\n",
       "      <td>202218</td>\n",
       "      <td>18139</td>\n",
       "      <td>27546</td>\n",
       "      <td>47155</td>\n",
       "      <td>1.096040e+08</td>\n",
       "    </tr>\n",
       "    <tr>\n",
       "      <th>16</th>\n",
       "      <td>181400</td>\n",
       "      <td>16131</td>\n",
       "      <td>24095</td>\n",
       "      <td>41364</td>\n",
       "      <td>6.234399e+07</td>\n",
       "    </tr>\n",
       "    <tr>\n",
       "      <th>17</th>\n",
       "      <td>178556</td>\n",
       "      <td>16208</td>\n",
       "      <td>23887</td>\n",
       "      <td>40848</td>\n",
       "      <td>6.544308e+07</td>\n",
       "    </tr>\n",
       "    <tr>\n",
       "      <th>18</th>\n",
       "      <td>151303</td>\n",
       "      <td>13403</td>\n",
       "      <td>20402</td>\n",
       "      <td>34938</td>\n",
       "      <td>4.607619e+07</td>\n",
       "    </tr>\n",
       "    <tr>\n",
       "      <th>19</th>\n",
       "      <td>142636</td>\n",
       "      <td>13041</td>\n",
       "      <td>19582</td>\n",
       "      <td>33577</td>\n",
       "      <td>4.603883e+07</td>\n",
       "    </tr>\n",
       "    <tr>\n",
       "      <th>20</th>\n",
       "      <td>134901</td>\n",
       "      <td>12566</td>\n",
       "      <td>18887</td>\n",
       "      <td>32278</td>\n",
       "      <td>4.069806e+07</td>\n",
       "    </tr>\n",
       "    <tr>\n",
       "      <th>21</th>\n",
       "      <td>125303</td>\n",
       "      <td>11266</td>\n",
       "      <td>16717</td>\n",
       "      <td>28725</td>\n",
       "      <td>3.866381e+07</td>\n",
       "    </tr>\n",
       "    <tr>\n",
       "      <th>22</th>\n",
       "      <td>113374</td>\n",
       "      <td>10319</td>\n",
       "      <td>15543</td>\n",
       "      <td>26677</td>\n",
       "      <td>5.011709e+07</td>\n",
       "    </tr>\n",
       "    <tr>\n",
       "      <th>23</th>\n",
       "      <td>110883</td>\n",
       "      <td>9737</td>\n",
       "      <td>14634</td>\n",
       "      <td>25056</td>\n",
       "      <td>2.988437e+07</td>\n",
       "    </tr>\n",
       "    <tr>\n",
       "      <th>24</th>\n",
       "      <td>104678</td>\n",
       "      <td>9200</td>\n",
       "      <td>13913</td>\n",
       "      <td>23797</td>\n",
       "      <td>4.280703e+07</td>\n",
       "    </tr>\n",
       "    <tr>\n",
       "      <th>25</th>\n",
       "      <td>104715</td>\n",
       "      <td>9319</td>\n",
       "      <td>13788</td>\n",
       "      <td>23634</td>\n",
       "      <td>7.986426e+07</td>\n",
       "    </tr>\n",
       "    <tr>\n",
       "      <th>26</th>\n",
       "      <td>98142</td>\n",
       "      <td>8793</td>\n",
       "      <td>12958</td>\n",
       "      <td>22168</td>\n",
       "      <td>6.339377e+07</td>\n",
       "    </tr>\n",
       "    <tr>\n",
       "      <th>27</th>\n",
       "      <td>92308</td>\n",
       "      <td>8419</td>\n",
       "      <td>12186</td>\n",
       "      <td>20865</td>\n",
       "      <td>1.546123e+08</td>\n",
       "    </tr>\n",
       "    <tr>\n",
       "      <th>28</th>\n",
       "      <td>83703</td>\n",
       "      <td>7516</td>\n",
       "      <td>10954</td>\n",
       "      <td>18840</td>\n",
       "      <td>2.914066e+07</td>\n",
       "    </tr>\n",
       "    <tr>\n",
       "      <th>29</th>\n",
       "      <td>80336</td>\n",
       "      <td>7075</td>\n",
       "      <td>10421</td>\n",
       "      <td>17897</td>\n",
       "      <td>3.171724e+07</td>\n",
       "    </tr>\n",
       "    <tr>\n",
       "      <th>...</th>\n",
       "      <th>...</th>\n",
       "      <td>...</td>\n",
       "      <td>...</td>\n",
       "      <td>...</td>\n",
       "      <td>...</td>\n",
       "      <td>...</td>\n",
       "    </tr>\n",
       "    <tr>\n",
       "      <th rowspan=\"30\" valign=\"top\">1</th>\n",
       "      <th>36863</th>\n",
       "      <td>113</td>\n",
       "      <td>4</td>\n",
       "      <td>13</td>\n",
       "      <td>22</td>\n",
       "      <td>1.000000e+04</td>\n",
       "    </tr>\n",
       "    <tr>\n",
       "      <th>39560</th>\n",
       "      <td>67</td>\n",
       "      <td>13</td>\n",
       "      <td>13</td>\n",
       "      <td>22</td>\n",
       "      <td>5.000000e+04</td>\n",
       "    </tr>\n",
       "    <tr>\n",
       "      <th>40642</th>\n",
       "      <td>136</td>\n",
       "      <td>8</td>\n",
       "      <td>13</td>\n",
       "      <td>22</td>\n",
       "      <td>1.000000e+05</td>\n",
       "    </tr>\n",
       "    <tr>\n",
       "      <th>41733</th>\n",
       "      <td>148</td>\n",
       "      <td>8</td>\n",
       "      <td>13</td>\n",
       "      <td>22</td>\n",
       "      <td>2.500000e+05</td>\n",
       "    </tr>\n",
       "    <tr>\n",
       "      <th>42713</th>\n",
       "      <td>148</td>\n",
       "      <td>8</td>\n",
       "      <td>13</td>\n",
       "      <td>22</td>\n",
       "      <td>5.000000e+05</td>\n",
       "    </tr>\n",
       "    <tr>\n",
       "      <th>43733</th>\n",
       "      <td>136</td>\n",
       "      <td>8</td>\n",
       "      <td>13</td>\n",
       "      <td>22</td>\n",
       "      <td>4.000000e+04</td>\n",
       "    </tr>\n",
       "    <tr>\n",
       "      <th>44162</th>\n",
       "      <td>148</td>\n",
       "      <td>8</td>\n",
       "      <td>13</td>\n",
       "      <td>22</td>\n",
       "      <td>9.000000e+05</td>\n",
       "    </tr>\n",
       "    <tr>\n",
       "      <th>44949</th>\n",
       "      <td>113</td>\n",
       "      <td>4</td>\n",
       "      <td>13</td>\n",
       "      <td>22</td>\n",
       "      <td>2.000000e+04</td>\n",
       "    </tr>\n",
       "    <tr>\n",
       "      <th>46520</th>\n",
       "      <td>93</td>\n",
       "      <td>6</td>\n",
       "      <td>13</td>\n",
       "      <td>22</td>\n",
       "      <td>2.000000e+06</td>\n",
       "    </tr>\n",
       "    <tr>\n",
       "      <th>48270</th>\n",
       "      <td>139</td>\n",
       "      <td>6</td>\n",
       "      <td>13</td>\n",
       "      <td>22</td>\n",
       "      <td>2.000000e+06</td>\n",
       "    </tr>\n",
       "    <tr>\n",
       "      <th>61290</th>\n",
       "      <td>148</td>\n",
       "      <td>8</td>\n",
       "      <td>13</td>\n",
       "      <td>22</td>\n",
       "      <td>9.000000e+05</td>\n",
       "    </tr>\n",
       "    <tr>\n",
       "      <th>62642</th>\n",
       "      <td>113</td>\n",
       "      <td>4</td>\n",
       "      <td>13</td>\n",
       "      <td>22</td>\n",
       "      <td>5.000000e+04</td>\n",
       "    </tr>\n",
       "    <tr>\n",
       "      <th>63416</th>\n",
       "      <td>63</td>\n",
       "      <td>8</td>\n",
       "      <td>13</td>\n",
       "      <td>22</td>\n",
       "      <td>9.500000e+05</td>\n",
       "    </tr>\n",
       "    <tr>\n",
       "      <th>63758</th>\n",
       "      <td>136</td>\n",
       "      <td>8</td>\n",
       "      <td>13</td>\n",
       "      <td>22</td>\n",
       "      <td>1.000000e+04</td>\n",
       "    </tr>\n",
       "    <tr>\n",
       "      <th>64867</th>\n",
       "      <td>148</td>\n",
       "      <td>8</td>\n",
       "      <td>13</td>\n",
       "      <td>22</td>\n",
       "      <td>5.000000e+05</td>\n",
       "    </tr>\n",
       "    <tr>\n",
       "      <th>66673</th>\n",
       "      <td>113</td>\n",
       "      <td>4</td>\n",
       "      <td>13</td>\n",
       "      <td>22</td>\n",
       "      <td>1.000000e+06</td>\n",
       "    </tr>\n",
       "    <tr>\n",
       "      <th>67226</th>\n",
       "      <td>148</td>\n",
       "      <td>8</td>\n",
       "      <td>13</td>\n",
       "      <td>22</td>\n",
       "      <td>9.000000e+05</td>\n",
       "    </tr>\n",
       "    <tr>\n",
       "      <th>68929</th>\n",
       "      <td>113</td>\n",
       "      <td>4</td>\n",
       "      <td>13</td>\n",
       "      <td>22</td>\n",
       "      <td>1.000000e+05</td>\n",
       "    </tr>\n",
       "    <tr>\n",
       "      <th>69320</th>\n",
       "      <td>148</td>\n",
       "      <td>8</td>\n",
       "      <td>13</td>\n",
       "      <td>22</td>\n",
       "      <td>2.000000e+06</td>\n",
       "    </tr>\n",
       "    <tr>\n",
       "      <th>70122</th>\n",
       "      <td>138</td>\n",
       "      <td>13</td>\n",
       "      <td>1</td>\n",
       "      <td>3</td>\n",
       "      <td>9.199632e+04</td>\n",
       "    </tr>\n",
       "    <tr>\n",
       "      <th>73206</th>\n",
       "      <td>148</td>\n",
       "      <td>8</td>\n",
       "      <td>5</td>\n",
       "      <td>9</td>\n",
       "      <td>2.771706e+05</td>\n",
       "    </tr>\n",
       "    <tr>\n",
       "      <th>73986</th>\n",
       "      <td>148</td>\n",
       "      <td>8</td>\n",
       "      <td>13</td>\n",
       "      <td>22</td>\n",
       "      <td>1.100000e+06</td>\n",
       "    </tr>\n",
       "    <tr>\n",
       "      <th>74405</th>\n",
       "      <td>148</td>\n",
       "      <td>8</td>\n",
       "      <td>13</td>\n",
       "      <td>22</td>\n",
       "      <td>9.000000e+05</td>\n",
       "    </tr>\n",
       "    <tr>\n",
       "      <th>78471</th>\n",
       "      <td>113</td>\n",
       "      <td>4</td>\n",
       "      <td>13</td>\n",
       "      <td>22</td>\n",
       "      <td>5.000000e+05</td>\n",
       "    </tr>\n",
       "    <tr>\n",
       "      <th>85581</th>\n",
       "      <td>136</td>\n",
       "      <td>8</td>\n",
       "      <td>13</td>\n",
       "      <td>22</td>\n",
       "      <td>1.000000e+04</td>\n",
       "    </tr>\n",
       "    <tr>\n",
       "      <th>87142</th>\n",
       "      <td>148</td>\n",
       "      <td>8</td>\n",
       "      <td>13</td>\n",
       "      <td>22</td>\n",
       "      <td>4.000000e+05</td>\n",
       "    </tr>\n",
       "    <tr>\n",
       "      <th>91585</th>\n",
       "      <td>93</td>\n",
       "      <td>6</td>\n",
       "      <td>13</td>\n",
       "      <td>22</td>\n",
       "      <td>2.000000e+06</td>\n",
       "    </tr>\n",
       "    <tr>\n",
       "      <th>105857</th>\n",
       "      <td>151</td>\n",
       "      <td>13</td>\n",
       "      <td>13</td>\n",
       "      <td>22</td>\n",
       "      <td>1.000000e+06</td>\n",
       "    </tr>\n",
       "    <tr>\n",
       "      <th>154926</th>\n",
       "      <td>113</td>\n",
       "      <td>4</td>\n",
       "      <td>13</td>\n",
       "      <td>22</td>\n",
       "      <td>1.500000e+04</td>\n",
       "    </tr>\n",
       "    <tr>\n",
       "      <th>219382</th>\n",
       "      <td>136</td>\n",
       "      <td>8</td>\n",
       "      <td>13</td>\n",
       "      <td>22</td>\n",
       "      <td>1.000000e+04</td>\n",
       "    </tr>\n",
       "  </tbody>\n",
       "</table>\n",
       "<p>4843 rows × 5 columns</p>\n",
       "</div>"
      ],
      "text/plain": [
       "               category  main_category  currency  country  usd_goal_real\n",
       "state backers                                                           \n",
       "0     0         3862087         396654    537997   927630   4.714318e+09\n",
       "      1         2610416         261310    361811   623269   2.927539e+09\n",
       "      2         1753857         172724    241748   416095   1.860920e+09\n",
       "      3         1208328         116626    167943   288457   7.898600e+08\n",
       "      4          902766          85625    124839   214382   6.419460e+08\n",
       "      5          717945          67198     98251   168564   6.354029e+08\n",
       "      6          594794          55100     80845   138744   3.401444e+08\n",
       "      7          501598          45821     68201   117051   2.744572e+08\n",
       "      8          433262          39504     57883    99337   2.137272e+08\n",
       "      9          369838          34127     50416    86466   1.150685e+08\n",
       "      10         326444          30126     44477    76324   1.198360e+08\n",
       "      11         279487          25716     38026    65181   8.753691e+07\n",
       "      12         258538          24004     35772    61240   8.984265e+07\n",
       "      13         241785          22141     33029    56576   7.731921e+07\n",
       "      14         221637          20765     29900    51316   7.748401e+07\n",
       "      15         202218          18139     27546    47155   1.096040e+08\n",
       "      16         181400          16131     24095    41364   6.234399e+07\n",
       "      17         178556          16208     23887    40848   6.544308e+07\n",
       "      18         151303          13403     20402    34938   4.607619e+07\n",
       "      19         142636          13041     19582    33577   4.603883e+07\n",
       "      20         134901          12566     18887    32278   4.069806e+07\n",
       "      21         125303          11266     16717    28725   3.866381e+07\n",
       "      22         113374          10319     15543    26677   5.011709e+07\n",
       "      23         110883           9737     14634    25056   2.988437e+07\n",
       "      24         104678           9200     13913    23797   4.280703e+07\n",
       "      25         104715           9319     13788    23634   7.986426e+07\n",
       "      26          98142           8793     12958    22168   6.339377e+07\n",
       "      27          92308           8419     12186    20865   1.546123e+08\n",
       "      28          83703           7516     10954    18840   2.914066e+07\n",
       "      29          80336           7075     10421    17897   3.171724e+07\n",
       "...                 ...            ...       ...      ...            ...\n",
       "1     36863         113              4        13       22   1.000000e+04\n",
       "      39560          67             13        13       22   5.000000e+04\n",
       "      40642         136              8        13       22   1.000000e+05\n",
       "      41733         148              8        13       22   2.500000e+05\n",
       "      42713         148              8        13       22   5.000000e+05\n",
       "      43733         136              8        13       22   4.000000e+04\n",
       "      44162         148              8        13       22   9.000000e+05\n",
       "      44949         113              4        13       22   2.000000e+04\n",
       "      46520          93              6        13       22   2.000000e+06\n",
       "      48270         139              6        13       22   2.000000e+06\n",
       "      61290         148              8        13       22   9.000000e+05\n",
       "      62642         113              4        13       22   5.000000e+04\n",
       "      63416          63              8        13       22   9.500000e+05\n",
       "      63758         136              8        13       22   1.000000e+04\n",
       "      64867         148              8        13       22   5.000000e+05\n",
       "      66673         113              4        13       22   1.000000e+06\n",
       "      67226         148              8        13       22   9.000000e+05\n",
       "      68929         113              4        13       22   1.000000e+05\n",
       "      69320         148              8        13       22   2.000000e+06\n",
       "      70122         138             13         1        3   9.199632e+04\n",
       "      73206         148              8         5        9   2.771706e+05\n",
       "      73986         148              8        13       22   1.100000e+06\n",
       "      74405         148              8        13       22   9.000000e+05\n",
       "      78471         113              4        13       22   5.000000e+05\n",
       "      85581         136              8        13       22   1.000000e+04\n",
       "      87142         148              8        13       22   4.000000e+05\n",
       "      91585          93              6        13       22   2.000000e+06\n",
       "      105857        151             13        13       22   1.000000e+06\n",
       "      154926        113              4        13       22   1.500000e+04\n",
       "      219382        136              8        13       22   1.000000e+04\n",
       "\n",
       "[4843 rows x 5 columns]"
      ]
     },
     "execution_count": 126,
     "metadata": {},
     "output_type": "execute_result"
    }
   ],
   "source": [
    "df.groupby(['state','backers']).sum()"
   ]
  },
  {
   "cell_type": "code",
   "execution_count": 124,
   "metadata": {},
   "outputs": [
    {
     "data": {
      "text/html": [
       "<div>\n",
       "<style scoped>\n",
       "    .dataframe tbody tr th:only-of-type {\n",
       "        vertical-align: middle;\n",
       "    }\n",
       "\n",
       "    .dataframe tbody tr th {\n",
       "        vertical-align: top;\n",
       "    }\n",
       "\n",
       "    .dataframe thead th {\n",
       "        text-align: right;\n",
       "    }\n",
       "</style>\n",
       "<table border=\"1\" class=\"dataframe\">\n",
       "  <thead>\n",
       "    <tr style=\"text-align: right;\">\n",
       "      <th></th>\n",
       "      <th>category</th>\n",
       "      <th>main_category</th>\n",
       "      <th>currency</th>\n",
       "      <th>state</th>\n",
       "      <th>backers</th>\n",
       "      <th>country</th>\n",
       "      <th>usd_goal_real</th>\n",
       "    </tr>\n",
       "  </thead>\n",
       "  <tbody>\n",
       "    <tr>\n",
       "      <th>0</th>\n",
       "      <td>108</td>\n",
       "      <td>12</td>\n",
       "      <td>5</td>\n",
       "      <td>0</td>\n",
       "      <td>0</td>\n",
       "      <td>9</td>\n",
       "      <td>1533.95</td>\n",
       "    </tr>\n",
       "    <tr>\n",
       "      <th>1</th>\n",
       "      <td>93</td>\n",
       "      <td>6</td>\n",
       "      <td>13</td>\n",
       "      <td>0</td>\n",
       "      <td>15</td>\n",
       "      <td>22</td>\n",
       "      <td>30000.00</td>\n",
       "    </tr>\n",
       "    <tr>\n",
       "      <th>2</th>\n",
       "      <td>93</td>\n",
       "      <td>6</td>\n",
       "      <td>13</td>\n",
       "      <td>0</td>\n",
       "      <td>3</td>\n",
       "      <td>22</td>\n",
       "      <td>45000.00</td>\n",
       "    </tr>\n",
       "    <tr>\n",
       "      <th>3</th>\n",
       "      <td>90</td>\n",
       "      <td>10</td>\n",
       "      <td>13</td>\n",
       "      <td>0</td>\n",
       "      <td>1</td>\n",
       "      <td>22</td>\n",
       "      <td>5000.00</td>\n",
       "    </tr>\n",
       "    <tr>\n",
       "      <th>4</th>\n",
       "      <td>55</td>\n",
       "      <td>6</td>\n",
       "      <td>13</td>\n",
       "      <td>0</td>\n",
       "      <td>14</td>\n",
       "      <td>22</td>\n",
       "      <td>19500.00</td>\n",
       "    </tr>\n",
       "  </tbody>\n",
       "</table>\n",
       "</div>"
      ],
      "text/plain": [
       "   category  main_category  currency  state  backers  country  usd_goal_real\n",
       "0       108             12         5      0        0        9        1533.95\n",
       "1        93              6        13      0       15       22       30000.00\n",
       "2        93              6        13      0        3       22       45000.00\n",
       "3        90             10        13      0        1       22        5000.00\n",
       "4        55              6        13      0       14       22       19500.00"
      ]
     },
     "execution_count": 124,
     "metadata": {},
     "output_type": "execute_result"
    }
   ],
   "source": [
    "df.head()"
   ]
  },
  {
   "cell_type": "code",
   "execution_count": null,
   "metadata": {},
   "outputs": [],
   "source": []
  }
 ],
 "metadata": {
  "kernelspec": {
   "display_name": "Python 3",
   "language": "python",
   "name": "python3"
  },
  "language_info": {
   "codemirror_mode": {
    "name": "ipython",
    "version": 3
   },
   "file_extension": ".py",
   "mimetype": "text/x-python",
   "name": "python",
   "nbconvert_exporter": "python",
   "pygments_lexer": "ipython3",
   "version": "3.6.5"
  }
 },
 "nbformat": 4,
 "nbformat_minor": 2
}
